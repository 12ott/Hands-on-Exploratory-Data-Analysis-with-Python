{
  "nbformat": 4,
  "nbformat_minor": 0,
  "metadata": {
    "colab": {
      "name": "Chapter 7- Correlation.ipynb",
      "provenance": [],
      "collapsed_sections": []
    },
    "kernelspec": {
      "name": "python3",
      "display_name": "Python 3"
    }
  },
  "cells": [
    {
      "cell_type": "markdown",
      "metadata": {
        "id": "2LKKQSiKtnZm",
        "colab_type": "text"
      },
      "source": [
        "**Correlation**\n",
        "\n",
        "\n",
        " \n",
        "  \n"
      ]
    },
    {
      "cell_type": "code",
      "metadata": {
        "id": "39QonONl0wUM",
        "colab_type": "code",
        "colab": {}
      },
      "source": [
        "#import libraries\n",
        "import matplotlib.pyplot as plt\n",
        "import seaborn as sns\n",
        "import pandas as pd"
      ],
      "execution_count": 0,
      "outputs": []
    },
    {
      "cell_type": "code",
      "metadata": {
        "id": "kESeSKr3pwjh",
        "colab_type": "code",
        "colab": {}
      },
      "source": [
        "plt.rcParams['figure.figsize'] = (15, 10)\n",
        "plt.rcParams['figure.dpi'] = 150"
      ],
      "execution_count": 0,
      "outputs": []
    },
    {
      "cell_type": "code",
      "metadata": {
        "id": "MVZtKK4fRC-h",
        "colab_type": "code",
        "outputId": "d11420da-9706-4e6d-eba2-6dc3959a0b79",
        "colab": {
          "base_uri": "https://localhost:8080/",
          "height": 309
        }
      },
      "source": [
        "# loading data set as Pandas dataframe\n",
        "df = pd.read_csv(\"https://raw.githubusercontent.com/PacktPublishing/hands-on-exploratory-data-analysis-with-python/master/Chapter%207/automobileEDA.csv\")\n",
        "df.head()"
      ],
      "execution_count": 38,
      "outputs": [
        {
          "output_type": "execute_result",
          "data": {
            "text/html": [
              "<div>\n",
              "<style scoped>\n",
              "    .dataframe tbody tr th:only-of-type {\n",
              "        vertical-align: middle;\n",
              "    }\n",
              "\n",
              "    .dataframe tbody tr th {\n",
              "        vertical-align: top;\n",
              "    }\n",
              "\n",
              "    .dataframe thead th {\n",
              "        text-align: right;\n",
              "    }\n",
              "</style>\n",
              "<table border=\"1\" class=\"dataframe\">\n",
              "  <thead>\n",
              "    <tr style=\"text-align: right;\">\n",
              "      <th></th>\n",
              "      <th>symboling</th>\n",
              "      <th>normalized-losses</th>\n",
              "      <th>make</th>\n",
              "      <th>fuel-type</th>\n",
              "      <th>aspiration</th>\n",
              "      <th>num-of-doors</th>\n",
              "      <th>body-style</th>\n",
              "      <th>drive-wheels</th>\n",
              "      <th>engine-location</th>\n",
              "      <th>wheel-base</th>\n",
              "      <th>length</th>\n",
              "      <th>width</th>\n",
              "      <th>height</th>\n",
              "      <th>curb-weight</th>\n",
              "      <th>engine-type</th>\n",
              "      <th>num-of-cylinders</th>\n",
              "      <th>engine-size</th>\n",
              "      <th>fuel-system</th>\n",
              "      <th>bore</th>\n",
              "      <th>stroke</th>\n",
              "      <th>compression-ratio</th>\n",
              "      <th>horsepower</th>\n",
              "      <th>peak-rpm</th>\n",
              "      <th>city-mpg</th>\n",
              "      <th>highway-mpg</th>\n",
              "      <th>price</th>\n",
              "    </tr>\n",
              "  </thead>\n",
              "  <tbody>\n",
              "    <tr>\n",
              "      <th>0</th>\n",
              "      <td>3</td>\n",
              "      <td>?</td>\n",
              "      <td>alfa-romero</td>\n",
              "      <td>gas</td>\n",
              "      <td>std</td>\n",
              "      <td>two</td>\n",
              "      <td>convertible</td>\n",
              "      <td>rwd</td>\n",
              "      <td>front</td>\n",
              "      <td>88.6</td>\n",
              "      <td>168.8</td>\n",
              "      <td>64.1</td>\n",
              "      <td>48.8</td>\n",
              "      <td>2548</td>\n",
              "      <td>dohc</td>\n",
              "      <td>four</td>\n",
              "      <td>130</td>\n",
              "      <td>mpfi</td>\n",
              "      <td>3.47</td>\n",
              "      <td>2.68</td>\n",
              "      <td>9.0</td>\n",
              "      <td>111</td>\n",
              "      <td>5000</td>\n",
              "      <td>21</td>\n",
              "      <td>27</td>\n",
              "      <td>13495</td>\n",
              "    </tr>\n",
              "    <tr>\n",
              "      <th>1</th>\n",
              "      <td>3</td>\n",
              "      <td>?</td>\n",
              "      <td>alfa-romero</td>\n",
              "      <td>gas</td>\n",
              "      <td>std</td>\n",
              "      <td>two</td>\n",
              "      <td>convertible</td>\n",
              "      <td>rwd</td>\n",
              "      <td>front</td>\n",
              "      <td>88.6</td>\n",
              "      <td>168.8</td>\n",
              "      <td>64.1</td>\n",
              "      <td>48.8</td>\n",
              "      <td>2548</td>\n",
              "      <td>dohc</td>\n",
              "      <td>four</td>\n",
              "      <td>130</td>\n",
              "      <td>mpfi</td>\n",
              "      <td>3.47</td>\n",
              "      <td>2.68</td>\n",
              "      <td>9.0</td>\n",
              "      <td>111</td>\n",
              "      <td>5000</td>\n",
              "      <td>21</td>\n",
              "      <td>27</td>\n",
              "      <td>16500</td>\n",
              "    </tr>\n",
              "    <tr>\n",
              "      <th>2</th>\n",
              "      <td>1</td>\n",
              "      <td>?</td>\n",
              "      <td>alfa-romero</td>\n",
              "      <td>gas</td>\n",
              "      <td>std</td>\n",
              "      <td>two</td>\n",
              "      <td>hatchback</td>\n",
              "      <td>rwd</td>\n",
              "      <td>front</td>\n",
              "      <td>94.5</td>\n",
              "      <td>171.2</td>\n",
              "      <td>65.5</td>\n",
              "      <td>52.4</td>\n",
              "      <td>2823</td>\n",
              "      <td>ohcv</td>\n",
              "      <td>six</td>\n",
              "      <td>152</td>\n",
              "      <td>mpfi</td>\n",
              "      <td>2.68</td>\n",
              "      <td>3.47</td>\n",
              "      <td>9.0</td>\n",
              "      <td>154</td>\n",
              "      <td>5000</td>\n",
              "      <td>19</td>\n",
              "      <td>26</td>\n",
              "      <td>16500</td>\n",
              "    </tr>\n",
              "    <tr>\n",
              "      <th>3</th>\n",
              "      <td>2</td>\n",
              "      <td>164</td>\n",
              "      <td>audi</td>\n",
              "      <td>gas</td>\n",
              "      <td>std</td>\n",
              "      <td>four</td>\n",
              "      <td>sedan</td>\n",
              "      <td>fwd</td>\n",
              "      <td>front</td>\n",
              "      <td>99.8</td>\n",
              "      <td>176.6</td>\n",
              "      <td>66.2</td>\n",
              "      <td>54.3</td>\n",
              "      <td>2337</td>\n",
              "      <td>ohc</td>\n",
              "      <td>four</td>\n",
              "      <td>109</td>\n",
              "      <td>mpfi</td>\n",
              "      <td>3.19</td>\n",
              "      <td>3.4</td>\n",
              "      <td>10.0</td>\n",
              "      <td>102</td>\n",
              "      <td>5500</td>\n",
              "      <td>24</td>\n",
              "      <td>30</td>\n",
              "      <td>13950</td>\n",
              "    </tr>\n",
              "    <tr>\n",
              "      <th>4</th>\n",
              "      <td>2</td>\n",
              "      <td>164</td>\n",
              "      <td>audi</td>\n",
              "      <td>gas</td>\n",
              "      <td>std</td>\n",
              "      <td>four</td>\n",
              "      <td>sedan</td>\n",
              "      <td>4wd</td>\n",
              "      <td>front</td>\n",
              "      <td>99.4</td>\n",
              "      <td>176.6</td>\n",
              "      <td>66.4</td>\n",
              "      <td>54.3</td>\n",
              "      <td>2824</td>\n",
              "      <td>ohc</td>\n",
              "      <td>five</td>\n",
              "      <td>136</td>\n",
              "      <td>mpfi</td>\n",
              "      <td>3.19</td>\n",
              "      <td>3.4</td>\n",
              "      <td>8.0</td>\n",
              "      <td>115</td>\n",
              "      <td>5500</td>\n",
              "      <td>18</td>\n",
              "      <td>22</td>\n",
              "      <td>17450</td>\n",
              "    </tr>\n",
              "  </tbody>\n",
              "</table>\n",
              "</div>"
            ],
            "text/plain": [
              "   symboling normalized-losses         make  ... city-mpg highway-mpg  price\n",
              "0          3                 ?  alfa-romero  ...       21          27  13495\n",
              "1          3                 ?  alfa-romero  ...       21          27  16500\n",
              "2          1                 ?  alfa-romero  ...       19          26  16500\n",
              "3          2               164         audi  ...       24          30  13950\n",
              "4          2               164         audi  ...       18          22  17450\n",
              "\n",
              "[5 rows x 26 columns]"
            ]
          },
          "metadata": {
            "tags": []
          },
          "execution_count": 38
        }
      ]
    },
    {
      "cell_type": "code",
      "metadata": {
        "id": "--5UJQTzRKpK",
        "colab_type": "code",
        "outputId": "52853012-6b8f-45c3-839e-65be15e55dac",
        "colab": {
          "base_uri": "https://localhost:8080/",
          "height": 476
        }
      },
      "source": [
        "df.dtypes"
      ],
      "execution_count": 39,
      "outputs": [
        {
          "output_type": "execute_result",
          "data": {
            "text/plain": [
              "symboling              int64\n",
              "normalized-losses     object\n",
              "make                  object\n",
              "fuel-type             object\n",
              "aspiration            object\n",
              "num-of-doors          object\n",
              "body-style            object\n",
              "drive-wheels          object\n",
              "engine-location       object\n",
              "wheel-base           float64\n",
              "length               float64\n",
              "width                float64\n",
              "height               float64\n",
              "curb-weight            int64\n",
              "engine-type           object\n",
              "num-of-cylinders      object\n",
              "engine-size            int64\n",
              "fuel-system           object\n",
              "bore                  object\n",
              "stroke                object\n",
              "compression-ratio    float64\n",
              "horsepower            object\n",
              "peak-rpm              object\n",
              "city-mpg               int64\n",
              "highway-mpg            int64\n",
              "price                 object\n",
              "dtype: object"
            ]
          },
          "metadata": {
            "tags": []
          },
          "execution_count": 39
        }
      ]
    },
    {
      "cell_type": "markdown",
      "metadata": {
        "id": "WYXxJPrMRSAs",
        "colab_type": "text"
      },
      "source": [
        "Now computing the Measure of central tendency of the values in column height. Remember taking only a single column of the data set we are making a univariate analysis."
      ]
    },
    {
      "cell_type": "code",
      "metadata": {
        "id": "u1yBf6vtR8j7",
        "colab_type": "code",
        "outputId": "763ea042-19c2-4136-d40b-80f21693b46b",
        "colab": {
          "base_uri": "https://localhost:8080/",
          "height": 51
        }
      },
      "source": [
        "#calculate mean, median and mode of dat set height\n",
        "mean = df[\"height\"].mean()\n",
        "median =df[\"height\"].median()\n",
        "mode = df[\"height\"].mode()\n",
        "print(mean , median, mode)"
      ],
      "execution_count": 40,
      "outputs": [
        {
          "output_type": "stream",
          "text": [
            "53.724878048780525 54.1 0    50.8\n",
            "dtype: float64\n"
          ],
          "name": "stdout"
        }
      ]
    },
    {
      "cell_type": "markdown",
      "metadata": {
        "id": "5DUEOh8_SOUk",
        "colab_type": "text"
      },
      "source": [
        "Now let's visualize this analysis in graph."
      ]
    },
    {
      "cell_type": "code",
      "metadata": {
        "id": "ope2pejRTJ8O",
        "colab_type": "code",
        "outputId": "07c48c9c-103b-44e7-b349-bc5c400d7607",
        "colab": {
          "base_uri": "https://localhost:8080/",
          "height": 794
        }
      },
      "source": [
        "#distribution plot\n",
        "sns.FacetGrid(df,size=5).map(sns.distplot,\"height\").add_legend()"
      ],
      "execution_count": 41,
      "outputs": [
        {
          "output_type": "stream",
          "text": [
            "/usr/local/lib/python3.6/dist-packages/seaborn/axisgrid.py:230: UserWarning: The `size` paramter has been renamed to `height`; please update your code.\n",
            "  warnings.warn(msg, UserWarning)\n"
          ],
          "name": "stderr"
        },
        {
          "output_type": "execute_result",
          "data": {
            "text/plain": [
              "<seaborn.axisgrid.FacetGrid at 0x7f659083dcc0>"
            ]
          },
          "metadata": {
            "tags": []
          },
          "execution_count": 41
        },
        {
          "output_type": "display_data",
          "data": {
            "image/png": "[encoded data removed]",
            "text/plain": [
              "<Figure size 768.333x750 with 1 Axes>"
            ]
          },
          "metadata": {
            "tags": []
          }
        }
      ]
    },
    {
      "cell_type": "markdown",
      "metadata": {
        "id": "iZsqPX50VS_F",
        "colab_type": "text"
      },
      "source": [
        "From the above graph, we can observe that the hight of maximum cars ranges from 53 to 57.\n",
        "\n",
        "Now, let's draw the same with price."
      ]
    },
    {
      "cell_type": "code",
      "metadata": {
        "id": "uXtvS1v4ugIl",
        "colab_type": "code",
        "colab": {
          "base_uri": "https://localhost:8080/",
          "height": 476
        },
        "outputId": "16cf84bc-0a35-4e8f-e46a-1818c33308d2"
      },
      "source": [
        "df['price'] = pd.to_numeric(df['price'],errors='coerce')\n",
        "df.dtypes\n"
      ],
      "execution_count": 43,
      "outputs": [
        {
          "output_type": "execute_result",
          "data": {
            "text/plain": [
              "symboling              int64\n",
              "normalized-losses     object\n",
              "make                  object\n",
              "fuel-type             object\n",
              "aspiration            object\n",
              "num-of-doors          object\n",
              "body-style            object\n",
              "drive-wheels          object\n",
              "engine-location       object\n",
              "wheel-base           float64\n",
              "length               float64\n",
              "width                float64\n",
              "height               float64\n",
              "curb-weight            int64\n",
              "engine-type           object\n",
              "num-of-cylinders      object\n",
              "engine-size            int64\n",
              "fuel-system           object\n",
              "bore                  object\n",
              "stroke                object\n",
              "compression-ratio    float64\n",
              "horsepower            object\n",
              "peak-rpm              object\n",
              "city-mpg               int64\n",
              "highway-mpg            int64\n",
              "price                float64\n",
              "dtype: object"
            ]
          },
          "metadata": {
            "tags": []
          },
          "execution_count": 43
        }
      ]
    },
    {
      "cell_type": "code",
      "metadata": {
        "id": "C2sMcnmvWFmu",
        "colab_type": "code",
        "outputId": "6f7bf9de-094f-4604-b5ad-78075483e974",
        "colab": {
          "base_uri": "https://localhost:8080/",
          "height": 794
        }
      },
      "source": [
        "#distribution plot\n",
        "sns.FacetGrid(df,size=5).map(sns.distplot,\"price\").add_legend()"
      ],
      "execution_count": 44,
      "outputs": [
        {
          "output_type": "stream",
          "text": [
            "/usr/local/lib/python3.6/dist-packages/seaborn/axisgrid.py:230: UserWarning: The `size` paramter has been renamed to `height`; please update your code.\n",
            "  warnings.warn(msg, UserWarning)\n"
          ],
          "name": "stderr"
        },
        {
          "output_type": "execute_result",
          "data": {
            "text/plain": [
              "<seaborn.axisgrid.FacetGrid at 0x7f658bd70fd0>"
            ]
          },
          "metadata": {
            "tags": []
          },
          "execution_count": 44
        },
        {
          "output_type": "display_data",
          "data": {
            "image/png": "[encoded data removed]",
            "text/plain": [
              "<Figure size 768.333x750 with 1 Axes>"
            ]
          },
          "metadata": {
            "tags": []
          }
        }
      ]
    },
    {
      "cell_type": "markdown",
      "metadata": {
        "id": "8OA7UgR3WniU",
        "colab_type": "text"
      },
      "source": [
        "From the above graph, we can say that the price ranges from 5,000 to 45,000 but the maximum car price ranges between 5,000 to 10,000.\n",
        "\n",
        "The box plot is also efective visual representation of statical measures like median and quartiles in univariate analysis."
      ]
    },
    {
      "cell_type": "code",
      "metadata": {
        "id": "ADjS4KZpympV",
        "colab_type": "code",
        "colab": {}
      },
      "source": [
        "#boxplot for price of cars\n",
        "sns.boxplot(x=\"price\",data=df)\n",
        "plt.show()"
      ],
      "execution_count": 0,
      "outputs": []
    },
    {
      "cell_type": "markdown",
      "metadata": {
        "id": "BVzYyxI5zOCZ",
        "colab_type": "text"
      },
      "source": [
        "The right border of the box is Q3 and the left border of the box is Q1. Lines extend from both sides of the box boundaries toward the minimum and maximum. Based on the convention our plotting tool uses, though, they may only extend to a certain statistic; any values beyond these statistics are marked as outliers (using points).[Referance:HANDSON_DATA_ANALYSIS_WITH_PANDAS.pdf]\n",
        " "
      ]
    },
    {
      "cell_type": "markdown",
      "metadata": {
        "id": "Srukcqs30zF5",
        "colab_type": "text"
      },
      "source": [
        "**Bivariate Analysis**\n",
        "\n"
      ]
    },
    {
      "cell_type": "code",
      "metadata": {
        "id": "Le2rHrIA0woB",
        "colab_type": "code",
        "colab": {}
      },
      "source": [
        "# plot the relationship between “horsepower” and ”price”\n",
        "plt.scatter(df[\"price\"], df[\"horsepower\"])\n",
        "plt.title(\"Scatter Plot for horsepower vs price\")\n",
        "plt.xlabel(\"horsepower\")\n",
        "plt.ylabel(\"price\")"
      ],
      "execution_count": 0,
      "outputs": []
    },
    {
      "cell_type": "code",
      "metadata": {
        "id": "3RrjcaTbZMMd",
        "colab_type": "code",
        "colab": {}
      },
      "source": [
        "#boxplot\n",
        "sns.boxplot(x=\"engine-location\",y=\"price\",data=df)\n",
        "plt.show()"
      ],
      "execution_count": 0,
      "outputs": []
    },
    {
      "cell_type": "code",
      "metadata": {
        "id": "Xdqy64M-bXCm",
        "colab_type": "code",
        "colab": {}
      },
      "source": [
        "#boxplot to visualize the distribution of \"price\" with types of \"drive-wheels\"\n",
        "sns.boxplot(x=\"drive-wheels\", y=\"price\",data=df)"
      ],
      "execution_count": 0,
      "outputs": []
    },
    {
      "cell_type": "markdown",
      "metadata": {
        "id": "NU08xvlDbZ9N",
        "colab_type": "text"
      },
      "source": [
        "Figure above illustrates the range of prices in cars with different wheel types. Boxplot shows the average and median price in respective wheel types and some outliers."
      ]
    },
    {
      "cell_type": "markdown",
      "metadata": {
        "id": "DxaVq_1c00Si",
        "colab_type": "text"
      },
      "source": [
        "**Multivariate Analysis**\n",
        "\n",
        "\n",
        "[Referance:https://python-for-multivariate-analysis.readthedocs.io/a_little_book_of_python_for_multivariate_analysis.html#reading-multivariate-analysis-data-into-python]\n"
      ]
    },
    {
      "cell_type": "code",
      "metadata": {
        "id": "GQSCGenHmtyc",
        "colab_type": "code",
        "colab": {}
      },
      "source": [
        "# pair plot with plot type regression\n",
        "sns.pairplot(df,vars = ['normalized-losses', 'price','horsepower'],  kind=\"reg\")\n",
        "plt.show()"
      ],
      "execution_count": 0,
      "outputs": []
    },
    {
      "cell_type": "code",
      "metadata": {
        "id": "o2_kQbbv0wz8",
        "colab_type": "code",
        "colab": {}
      },
      "source": [
        " #pair plot (matrix scatterplot) of few columns \n",
        "sns.set(style=\"ticks\", color_codes=True)\n",
        "sns.pairplot(df,vars = ['symboling', 'normalized-losses','wheel-base'], hue=\"drive-wheels\")\n",
        "plt.show()"
      ],
      "execution_count": 0,
      "outputs": []
    },
    {
      "cell_type": "code",
      "metadata": {
        "id": "MRgglwRlrqU9",
        "colab_type": "code",
        "colab": {}
      },
      "source": [
        "from scipy import stats\n",
        "corr = stats.pearsonr(df[\"price\"], df[\"horsepower\"])\n",
        "print(\"p-value:\\t\", corr[1])\n",
        "print(\"cor:\\t\\t\", corr[0])"
      ],
      "execution_count": 0,
      "outputs": []
    },
    {
      "cell_type": "markdown",
      "metadata": {
        "id": "PKgH1SXguBDM",
        "colab_type": "text"
      },
      "source": [
        "Here the correlation of these two variable is 0.80957 which is close to +1 thus we can make sure that price and horsepower are highly positively correlated. Using pandas corr( function correlation between entire numerical record can be calculated."
      ]
    },
    {
      "cell_type": "code",
      "metadata": {
        "id": "F8vD_PJzt_TU",
        "colab_type": "code",
        "colab": {}
      },
      "source": [
        "correlation = df.corr(method='pearson')\n",
        "correlation"
      ],
      "execution_count": 0,
      "outputs": []
    },
    {
      "cell_type": "markdown",
      "metadata": {
        "id": "dqrhKg5XumbQ",
        "colab_type": "text"
      },
      "source": [
        "Now let's visualize this correlation analysis with heatmap. Heatmap is best technique to make this look beautiful and easier to interpret."
      ]
    },
    {
      "cell_type": "code",
      "metadata": {
        "id": "tzjIUzH6v2Ca",
        "colab_type": "code",
        "colab": {}
      },
      "source": [
        "sns.heatmap(correlation,xticklabels=correlation.columns,\n",
        "            yticklabels=correlation.columns)\n",
        "          "
      ],
      "execution_count": 0,
      "outputs": []
    },
    {
      "cell_type": "markdown",
      "metadata": {
        "id": "L7Jbo0KWx7uZ",
        "colab_type": "text"
      },
      "source": [
        "A coefficient close to 1 means that there’s a very strong positive correlation between the two variables. The diagonal line is the correlation of the variables to themselves — so they’ll obviously be 1."
      ]
    },
    {
      "cell_type": "markdown",
      "metadata": {
        "id": "f4XrrX8H0mj-",
        "colab_type": "text"
      },
      "source": [
        "**Multivariate Analysis over titanic dataset**\n"
      ]
    },
    {
      "cell_type": "code",
      "metadata": {
        "id": "aaxVYze_TLMl",
        "colab_type": "code",
        "colab": {}
      },
      "source": [
        "# load python libraries\n",
        "import numpy as np \n",
        "import pandas as pd\n",
        "import seaborn as sns\n",
        "import matplotlib.pyplot as plt\n"
      ],
      "execution_count": 0,
      "outputs": []
    },
    {
      "cell_type": "code",
      "metadata": {
        "id": "oAtkvO16Tcdc",
        "colab_type": "code",
        "colab": {}
      },
      "source": [
        "#load data set\n",
        "titanic=pd.read_csv(\"https://raw.githubusercontent.com/PacktPublishing/hands-on-exploratory-data-analysis-with-python/master/Chapter%207/titanic.csv\")\n",
        "titanic.head()\n"
      ],
      "execution_count": 0,
      "outputs": []
    },
    {
      "cell_type": "code",
      "metadata": {
        "id": "_wqVsLPpT1o-",
        "colab_type": "code",
        "colab": {}
      },
      "source": [
        "titanic.shape\n"
      ],
      "execution_count": 0,
      "outputs": []
    },
    {
      "cell_type": "markdown",
      "metadata": {
        "id": "XXuWZ_O5_ZzY",
        "colab_type": "text"
      },
      "source": [
        "Let’s take a  look at what is the number of records missing in the data set."
      ]
    },
    {
      "cell_type": "code",
      "metadata": {
        "id": "sIwWU6Wy_YNs",
        "colab_type": "code",
        "colab": {}
      },
      "source": [
        "total = titanic.isnull().sum().sort_values(ascending=False)\n",
        "total"
      ],
      "execution_count": 0,
      "outputs": []
    },
    {
      "cell_type": "code",
      "metadata": {
        "id": "IkPQkerkUS_k",
        "colab_type": "code",
        "colab": {}
      },
      "source": [
        "#percentage of women survived\n",
        "women = titanic.loc[titanic.Sex == 'female'][\"Survived\"]\n",
        "rate_women = sum(women)/len(women)\n",
        "\n",
        "#percentage of men survived\n",
        "men = titanic.loc[titanic.Sex == 'male'][\"Survived\"]\n",
        "rate_men = sum(men)/len(men)\n",
        "\n",
        "print(str(rate_women) +\" % of women who survived.\" )\n",
        "print(str(rate_men) + \" % of men who survived.\" )"
      ],
      "execution_count": 0,
      "outputs": []
    },
    {
      "cell_type": "markdown",
      "metadata": {
        "id": "PpCOmNPTVath",
        "colab_type": "text"
      },
      "source": [
        "You can see the number of females survival was high, so gender could be the attribute that contributes to analyzing the survival of any variable(person). Let's visualize this information on survival numbers in males and females."
      ]
    },
    {
      "cell_type": "code",
      "metadata": {
        "id": "Hd_2AhXGyjck",
        "colab_type": "code",
        "colab": {}
      },
      "source": [
        "titanic['Survived'] = titanic['Survived'].map({0:\"not_survived\", 1:\"survived\"})\n",
        "\n",
        "fig, ax = plt.subplots(1, 2, figsize = (10, 8))\n",
        "titanic[\"Sex\"].value_counts().plot.bar(color = \"skyblue\", ax = ax[0])\n",
        "ax[0].set_title(\"Number Of Passengers By Sex\")\n",
        "ax[0].set_ylabel(\"Population\")\n",
        "sns.countplot(\"Sex\", hue = \"Survived\", data = titanic, ax = ax[1])\n",
        "ax[1].set_title(\"Sex: Survived vs Dead\")\n",
        "plt.show()"
      ],
      "execution_count": 0,
      "outputs": []
    },
    {
      "cell_type": "markdown",
      "metadata": {
        "id": "QekyO-jczqea",
        "colab_type": "text"
      },
      "source": [
        "Let's visualize the number of survival and death from different Pclasses."
      ]
    },
    {
      "cell_type": "code",
      "metadata": {
        "id": "y6ro6k-mzozK",
        "colab_type": "code",
        "colab": {}
      },
      "source": [
        "fig, ax = plt.subplots(1, 2, figsize = (10, 8))\n",
        "titanic[\"Pclass\"].value_counts().plot.bar(color = \"skyblue\", ax = ax[0])\n",
        "ax[0].set_title(\"Number Of Passengers By Pclass\")\n",
        "ax[0].set_ylabel(\"Population\")\n",
        "sns.countplot(\"Pclass\", hue = \"Survived\", data = titanic, ax = ax[1])\n",
        "ax[1].set_title(\"Pclass: Survived vs Dead\")\n",
        "plt.show()"
      ],
      "execution_count": 0,
      "outputs": []
    },
    {
      "cell_type": "markdown",
      "metadata": {
        "id": "t0Y7ekBB3iB3",
        "colab_type": "text"
      },
      "source": [
        "Looks like the number of passenger in Pclass 3 was high and maximum of them could not survive. death  Pclass the number of death is high. And in Pclass 1 maximum of the passengers were survived."
      ]
    },
    {
      "cell_type": "code",
      "metadata": {
        "id": "_tgg0tgvqXoi",
        "colab_type": "code",
        "colab": {}
      },
      "source": [
        "# titanic[\"Embarked\"] = titanic[\"Embarked\"].fillna(\"S\")\n",
        "titanic"
      ],
      "execution_count": 0,
      "outputs": []
    },
    {
      "cell_type": "code",
      "metadata": {
        "id": "IZrXMIUR23C6",
        "colab_type": "code",
        "colab": {}
      },
      "source": [
        "fig, ax = plt.subplots(1, 2, figsize = (10, 8))\n",
        "titanic[\"Embarked\"].value_counts().plot.bar(color = \"skyblue\", ax = ax[0])\n",
        "ax[0].set_title(\"Number Of Passengers By Embarked\")\n",
        "ax[0].set_ylabel(\"Number\")\n",
        "sns.countplot(\"Embarked\", hue = \"Survived\", data = titanic, ax = ax[1])\n",
        "ax[1].set_title(\"Embarked: Survived vs Unsurvived\")\n",
        "plt.show()"
      ],
      "execution_count": 0,
      "outputs": []
    },
    {
      "cell_type": "code",
      "metadata": {
        "id": "rdNQ4O736RCy",
        "colab_type": "code",
        "colab": {}
      },
      "source": [
        "sns.distplot(titanic['Age'].dropna())"
      ],
      "execution_count": 0,
      "outputs": []
    },
    {
      "cell_type": "markdown",
      "metadata": {
        "id": "nvAa92J3iYSC",
        "colab_type": "text"
      },
      "source": [
        "Now let's do first multivariate analysis into titanic data set with variables Survived, Pclass,Fear and Age. "
      ]
    },
    {
      "cell_type": "code",
      "metadata": {
        "id": "kPhnbAsk_lwX",
        "colab_type": "code",
        "colab": {}
      },
      "source": [
        "\n",
        "sns.set(style=\"ticks\", color_codes=True)\n",
        "sns.pairplot(titanic,vars = [ 'Fare','Age','Pclass'], hue=\"Survived\")\n",
        "plt.show()\n"
      ],
      "execution_count": 0,
      "outputs": []
    },
    {
      "cell_type": "markdown",
      "metadata": {
        "id": "-JxQfFR5Fe1f",
        "colab_type": "text"
      },
      "source": [
        "Now lets' view the correlation table with heatmap. But first map Embarked records with integer values so that we can include Embrake too in our correlation analysis."
      ]
    },
    {
      "cell_type": "code",
      "metadata": {
        "id": "9gXRFOOtEUuq",
        "colab_type": "code",
        "colab": {}
      },
      "source": [
        "titanic['Embarked'] = titanic['Embarked'].map({\"S\":1, \"C\":2,\"Q\":2,\"NaN\":0})\n",
        "Tcorrelation = titanic.corr(method='pearson')\n",
        "Tcorrelation"
      ],
      "execution_count": 0,
      "outputs": []
    },
    {
      "cell_type": "code",
      "metadata": {
        "id": "JPMfqPI1EZaC",
        "colab_type": "code",
        "colab": {}
      },
      "source": [
        "sns.heatmap(Tcorrelation,xticklabels=Tcorrelation.columns,\n",
        "            yticklabels=Tcorrelation.columns)\n",
        "          "
      ],
      "execution_count": 0,
      "outputs": []
    },
    {
      "cell_type": "code",
      "metadata": {
        "id": "ttA4KoL1T_iQ",
        "colab_type": "code",
        "colab": {}
      },
      "source": [
        ""
      ],
      "execution_count": 0,
      "outputs": []
    }
  ]
}