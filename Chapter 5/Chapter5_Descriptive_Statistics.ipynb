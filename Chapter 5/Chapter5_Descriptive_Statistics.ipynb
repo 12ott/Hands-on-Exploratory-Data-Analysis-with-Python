{
  "nbformat": 4,
  "nbformat_minor": 0,
  "metadata": {
    "colab": {
      "name": "Chapter 7 Descriptive Statistics.ipynb",
      "provenance": [],
      "collapsed_sections": []
    },
    "kernelspec": {
      "name": "python3",
      "display_name": "Python 3"
    }
  },
  "cells": [
    {
      "cell_type": "markdown",
      "metadata": {
        "id": "OkjOkRvt2dRk",
        "colab_type": "text"
      },
      "source": [
        "Data science is making quantitative analysis on available huge amounts of data to get insights into data. To make a quantitative analysis of the humongous amount of data requires statistics concepts. Statistics is a branch of mathematics that deals with collecting, interpreting, organization and interpretation of data. We can understand what type of distribution data has with the help of statistics.\n",
        "\n",
        "**Descriptive Statistics**\n",
        "\n",
        "Descriptive statistics is making simple summaries of huge quantitive data  so they can be easily understood .In descriptive statistics we typically describe the data in a sample which means that descriptive statistics, unlike inferential statistics, is not developed on the basis of probability theory. The summaries of data may be either numerical representation or visualization with simple graphs for further understanding. \n",
        "\n",
        "**Measures of descriptive statistics**\n",
        "\n",
        "Some measures that are commonly used to describe a data set are measures of central tendency and measures of variability or dispersion.\n",
        "Hence descriptive statistics are broken down into two categories.\n",
        "1. Measures of central tendency \n",
        "2. Measures of variability (spread).\n",
        "\n",
        "Measures of central tendency include the mean, median and mode, while measures of variability include the standard deviation (or variance), the minimum and maximum values of the variables, kurtosis and skewness."
      ]
    },
    {
      "cell_type": "markdown",
      "metadata": {
        "id": "gV7bg3FZ8KBg",
        "colab_type": "text"
      },
      "source": [
        "**Measures of Central Tendency**\n",
        "\n",
        "Measure of central tendency tends to describe the average or middle value of data sets which is supposed to do the best summarization of the entire set of measurements. This value is a number that is in some way “central” to the set. The most common measures to analyze the distribution frequency of data are mean, median and mode.\n",
        "\n",
        "**Mean/Average**: Mean or Average is a number around which the observed continuous variables are distributed. This number estimates the value of the whole dataset. Mathematically it is the result division of the sum of numbers with the number of integers in the dataset. Let x be a set of integers,\n",
        "\n",
        "x=(12,2,3,5,8,9,6,4,2)\n",
        "\n",
        "Mean of x =(12+2+3+5+8+9+6+4+2)/9 = 5.66\n",
        "\n",
        "**Median**: Median is the value that divides the data into 2 equal parts i.e. number of terms on the right side of it is the same as the number of terms on the left side of it when data is arranged in either ascending or descending order. Median will be a middle term if the number of terms is odd and will be average of middle 2 terms if the number of terms is even.\n",
        "\n",
        "For a set of integers like x, we must arrange it to ascending order and then select the middle integer.\n",
        "\n",
        "x in assending order = x(2,2,3,4,5,6,8,9,12)\n",
        "\n",
        "Here median is 5.\n",
        "\n",
        "**Mode**: Mode is the integer appearing a maximum time in the data set. It happens to be the value with the highest frequency in the data set. But there could be a data set where there is no mode at all as all values appear the same number of times.\n",
        "\n",
        "In x data set, Mode is 2 because it occurs twice in the set.\n",
        "\n",
        "Python provides different libraries for operating descriptive statistics into the data set. Commonly used libraries are Pandas, Numpy and SciPy. These measures of central tendency can be simply calculated by Numpy and Pandas functionalities.\n",
        "\n",
        "For practicing Descriptive Statistics we would require a data set that has multiple numerical records in it. Here is a dataset of automobiles that inlists different features and attributes of cars like symbolling, normalized-losses, aspiration and many others whose analysis will provide some valuable insight knowledge and findings of automobiles in this dataset.\n",
        "\n",
        "Lets begin with importing data set and required python libraries."
      ]
    },
    {
      "cell_type": "code",
      "metadata": {
        "id": "t_vdqTd18EtY",
        "colab_type": "code",
        "colab": {}
      },
      "source": [
        "# import libraries\n",
        "import pandas as pd\n",
        "import numpy as np"
      ],
      "execution_count": 0,
      "outputs": []
    },
    {
      "cell_type": "code",
      "metadata": {
        "id": "2ccn8bquu4LE",
        "colab_type": "code",
        "outputId": "880836e6-615a-4700-ad3b-a8f6f85e9267",
        "colab": {
          "base_uri": "https://localhost:8080/",
          "height": 309
        }
      },
      "source": [
        "# loading data set as Pandas dataframe\n",
        "df = pd.read_csv(\"/content/automobileEDA.csv\")\n",
        "df.head()"
      ],
      "execution_count": 0,
      "outputs": [
        {
          "output_type": "execute_result",
          "data": {
            "text/html": [
              "<div>\n",
              "<style scoped>\n",
              "    .dataframe tbody tr th:only-of-type {\n",
              "        vertical-align: middle;\n",
              "    }\n",
              "\n",
              "    .dataframe tbody tr th {\n",
              "        vertical-align: top;\n",
              "    }\n",
              "\n",
              "    .dataframe thead th {\n",
              "        text-align: right;\n",
              "    }\n",
              "</style>\n",
              "<table border=\"1\" class=\"dataframe\">\n",
              "  <thead>\n",
              "    <tr style=\"text-align: right;\">\n",
              "      <th></th>\n",
              "      <th>symboling</th>\n",
              "      <th>normalized-losses</th>\n",
              "      <th>make</th>\n",
              "      <th>aspiration</th>\n",
              "      <th>num-of-doors</th>\n",
              "      <th>body-style</th>\n",
              "      <th>drive-wheels</th>\n",
              "      <th>engine-location</th>\n",
              "      <th>wheel-base</th>\n",
              "      <th>length</th>\n",
              "      <th>width</th>\n",
              "      <th>height</th>\n",
              "      <th>curb-weight</th>\n",
              "      <th>engine-type</th>\n",
              "      <th>num-of-cylinders</th>\n",
              "      <th>engine-size</th>\n",
              "      <th>fuel-system</th>\n",
              "      <th>bore</th>\n",
              "      <th>stroke</th>\n",
              "      <th>compression-ratio</th>\n",
              "      <th>horsepower</th>\n",
              "      <th>peak-rpm</th>\n",
              "      <th>city-mpg</th>\n",
              "      <th>highway-mpg</th>\n",
              "      <th>price</th>\n",
              "      <th>city-L/100km</th>\n",
              "      <th>horsepower-binned</th>\n",
              "      <th>diesel</th>\n",
              "      <th>gas</th>\n",
              "    </tr>\n",
              "  </thead>\n",
              "  <tbody>\n",
              "    <tr>\n",
              "      <th>0</th>\n",
              "      <td>3</td>\n",
              "      <td>122</td>\n",
              "      <td>alfa-romero</td>\n",
              "      <td>std</td>\n",
              "      <td>two</td>\n",
              "      <td>convertible</td>\n",
              "      <td>rwd</td>\n",
              "      <td>front</td>\n",
              "      <td>88.6</td>\n",
              "      <td>0.811148</td>\n",
              "      <td>0.890278</td>\n",
              "      <td>48.8</td>\n",
              "      <td>2548</td>\n",
              "      <td>dohc</td>\n",
              "      <td>four</td>\n",
              "      <td>130</td>\n",
              "      <td>mpfi</td>\n",
              "      <td>3.47</td>\n",
              "      <td>2.68</td>\n",
              "      <td>9.0</td>\n",
              "      <td>111.0</td>\n",
              "      <td>5000.0</td>\n",
              "      <td>21</td>\n",
              "      <td>27</td>\n",
              "      <td>13495.0</td>\n",
              "      <td>11.190476</td>\n",
              "      <td>Medium</td>\n",
              "      <td>0</td>\n",
              "      <td>1</td>\n",
              "    </tr>\n",
              "    <tr>\n",
              "      <th>1</th>\n",
              "      <td>3</td>\n",
              "      <td>122</td>\n",
              "      <td>alfa-romero</td>\n",
              "      <td>std</td>\n",
              "      <td>two</td>\n",
              "      <td>convertible</td>\n",
              "      <td>rwd</td>\n",
              "      <td>front</td>\n",
              "      <td>88.6</td>\n",
              "      <td>0.811148</td>\n",
              "      <td>0.890278</td>\n",
              "      <td>48.8</td>\n",
              "      <td>2548</td>\n",
              "      <td>dohc</td>\n",
              "      <td>four</td>\n",
              "      <td>130</td>\n",
              "      <td>mpfi</td>\n",
              "      <td>3.47</td>\n",
              "      <td>2.68</td>\n",
              "      <td>9.0</td>\n",
              "      <td>111.0</td>\n",
              "      <td>5000.0</td>\n",
              "      <td>21</td>\n",
              "      <td>27</td>\n",
              "      <td>16500.0</td>\n",
              "      <td>11.190476</td>\n",
              "      <td>Medium</td>\n",
              "      <td>0</td>\n",
              "      <td>1</td>\n",
              "    </tr>\n",
              "    <tr>\n",
              "      <th>2</th>\n",
              "      <td>1</td>\n",
              "      <td>122</td>\n",
              "      <td>alfa-romero</td>\n",
              "      <td>std</td>\n",
              "      <td>two</td>\n",
              "      <td>hatchback</td>\n",
              "      <td>rwd</td>\n",
              "      <td>front</td>\n",
              "      <td>94.5</td>\n",
              "      <td>0.822681</td>\n",
              "      <td>0.909722</td>\n",
              "      <td>52.4</td>\n",
              "      <td>2823</td>\n",
              "      <td>ohcv</td>\n",
              "      <td>six</td>\n",
              "      <td>152</td>\n",
              "      <td>mpfi</td>\n",
              "      <td>2.68</td>\n",
              "      <td>3.47</td>\n",
              "      <td>9.0</td>\n",
              "      <td>154.0</td>\n",
              "      <td>5000.0</td>\n",
              "      <td>19</td>\n",
              "      <td>26</td>\n",
              "      <td>16500.0</td>\n",
              "      <td>12.368421</td>\n",
              "      <td>Medium</td>\n",
              "      <td>0</td>\n",
              "      <td>1</td>\n",
              "    </tr>\n",
              "    <tr>\n",
              "      <th>3</th>\n",
              "      <td>2</td>\n",
              "      <td>164</td>\n",
              "      <td>audi</td>\n",
              "      <td>std</td>\n",
              "      <td>four</td>\n",
              "      <td>sedan</td>\n",
              "      <td>fwd</td>\n",
              "      <td>front</td>\n",
              "      <td>99.8</td>\n",
              "      <td>0.848630</td>\n",
              "      <td>0.919444</td>\n",
              "      <td>54.3</td>\n",
              "      <td>2337</td>\n",
              "      <td>ohc</td>\n",
              "      <td>four</td>\n",
              "      <td>109</td>\n",
              "      <td>mpfi</td>\n",
              "      <td>3.19</td>\n",
              "      <td>3.40</td>\n",
              "      <td>10.0</td>\n",
              "      <td>102.0</td>\n",
              "      <td>5500.0</td>\n",
              "      <td>24</td>\n",
              "      <td>30</td>\n",
              "      <td>13950.0</td>\n",
              "      <td>9.791667</td>\n",
              "      <td>Medium</td>\n",
              "      <td>0</td>\n",
              "      <td>1</td>\n",
              "    </tr>\n",
              "    <tr>\n",
              "      <th>4</th>\n",
              "      <td>2</td>\n",
              "      <td>164</td>\n",
              "      <td>audi</td>\n",
              "      <td>std</td>\n",
              "      <td>four</td>\n",
              "      <td>sedan</td>\n",
              "      <td>4wd</td>\n",
              "      <td>front</td>\n",
              "      <td>99.4</td>\n",
              "      <td>0.848630</td>\n",
              "      <td>0.922222</td>\n",
              "      <td>54.3</td>\n",
              "      <td>2824</td>\n",
              "      <td>ohc</td>\n",
              "      <td>five</td>\n",
              "      <td>136</td>\n",
              "      <td>mpfi</td>\n",
              "      <td>3.19</td>\n",
              "      <td>3.40</td>\n",
              "      <td>8.0</td>\n",
              "      <td>115.0</td>\n",
              "      <td>5500.0</td>\n",
              "      <td>18</td>\n",
              "      <td>22</td>\n",
              "      <td>17450.0</td>\n",
              "      <td>13.055556</td>\n",
              "      <td>Medium</td>\n",
              "      <td>0</td>\n",
              "      <td>1</td>\n",
              "    </tr>\n",
              "  </tbody>\n",
              "</table>\n",
              "</div>"
            ],
            "text/plain": [
              "   symboling  normalized-losses         make  ... horsepower-binned diesel gas\n",
              "0          3                122  alfa-romero  ...            Medium      0   1\n",
              "1          3                122  alfa-romero  ...            Medium      0   1\n",
              "2          1                122  alfa-romero  ...            Medium      0   1\n",
              "3          2                164         audi  ...            Medium      0   1\n",
              "4          2                164         audi  ...            Medium      0   1\n",
              "\n",
              "[5 rows x 29 columns]"
            ]
          },
          "metadata": {
            "tags": []
          },
          "execution_count": 3
        }
      ]
    },
    {
      "cell_type": "markdown",
      "metadata": {
        "id": "QVvsxOBEu6i2",
        "colab_type": "text"
      },
      "source": [
        "Let's start by computing Measure of central tendency"
      ]
    },
    {
      "cell_type": "code",
      "metadata": {
        "id": "xermW08E0_hP",
        "colab_type": "code",
        "outputId": "b5bceed9-5106-48a7-bbff-e31402b3a7d8",
        "colab": {
          "base_uri": "https://localhost:8080/",
          "height": 221
        }
      },
      "source": [
        "# get column height from df\n",
        "height =df[\"height\"]\n",
        "print(height)"
      ],
      "execution_count": 0,
      "outputs": [
        {
          "output_type": "stream",
          "text": [
            "0      48.8\n",
            "1      48.8\n",
            "2      52.4\n",
            "3      54.3\n",
            "4      54.3\n",
            "       ... \n",
            "196    55.5\n",
            "197    55.5\n",
            "198    55.5\n",
            "199    55.5\n",
            "200    55.5\n",
            "Name: height, Length: 201, dtype: float64\n"
          ],
          "name": "stdout"
        }
      ]
    },
    {
      "cell_type": "code",
      "metadata": {
        "id": "1SdC7Vre1ysd",
        "colab_type": "code",
        "outputId": "912ae16b-7d95-4d9d-a435-b559a38e88fe",
        "colab": {
          "base_uri": "https://localhost:8080/",
          "height": 51
        }
      },
      "source": [
        "#calculate mean, median and mode of dat set height\n",
        "mean = height.mean()\n",
        "median =height.median()\n",
        "mode = height.mode()\n",
        "print(mean , median, mode)"
      ],
      "execution_count": 0,
      "outputs": [
        {
          "output_type": "stream",
          "text": [
            "53.766666666666715 54.1 0    50.8\n",
            "dtype: float64\n"
          ],
          "name": "stdout"
        }
      ]
    },
    {
      "cell_type": "markdown",
      "metadata": {
        "id": "bwJsPKe6iB_Q",
        "colab_type": "text"
      },
      "source": [
        "The describe function automatically computes basic statistics for all continuous variables. Any NaN values are automatically skipped in these statistics.\n"
      ]
    },
    {
      "cell_type": "code",
      "metadata": {
        "id": "t0pwK2A12fgN",
        "colab_type": "code",
        "outputId": "3ba07dd8-5903-49b0-c09d-553892a21276",
        "colab": {
          "base_uri": "https://localhost:8080/",
          "height": 204
        }
      },
      "source": [
        "print(df.describe())"
      ],
      "execution_count": 0,
      "outputs": [
        {
          "output_type": "stream",
          "text": [
            "        symboling  normalized-losses  ...      diesel         gas\n",
            "count  201.000000          201.00000  ...  201.000000  201.000000\n",
            "mean     0.840796          122.00000  ...    0.099502    0.900498\n",
            "std      1.254802           31.99625  ...    0.300083    0.300083\n",
            "min     -2.000000           65.00000  ...    0.000000    0.000000\n",
            "25%      0.000000          101.00000  ...    0.000000    1.000000\n",
            "50%      1.000000          122.00000  ...    0.000000    1.000000\n",
            "75%      2.000000          137.00000  ...    0.000000    1.000000\n",
            "max      3.000000          256.00000  ...    1.000000    1.000000\n",
            "\n",
            "[8 rows x 19 columns]\n"
          ],
          "name": "stdout"
        }
      ]
    },
    {
      "cell_type": "markdown",
      "metadata": {
        "id": "cydMjbLD_g_D",
        "colab_type": "text"
      },
      "source": [
        "For categorical variables which has discrite values we can summarize the categorical data is by using the function value_counts(). "
      ]
    },
    {
      "cell_type": "code",
      "metadata": {
        "id": "GVakZvw-AMsR",
        "colab_type": "code",
        "outputId": "ac9d31b6-7cf3-404f-b91b-35893630ea76",
        "colab": {
          "base_uri": "https://localhost:8080/",
          "height": 85
        }
      },
      "source": [
        "#summarize categories of drive-wheels\n",
        "drive_wheels_count =df[\"drive-wheels\"].value_counts()\n",
        "print(drive_wheels_count)"
      ],
      "execution_count": 0,
      "outputs": [
        {
          "output_type": "stream",
          "text": [
            "fwd    118\n",
            "rwd     75\n",
            "4wd      8\n",
            "Name: drive-wheels, dtype: int64\n"
          ],
          "name": "stdout"
        }
      ]
    },
    {
      "cell_type": "markdown",
      "metadata": {
        "id": "a_MdTpnB8Tti",
        "colab_type": "text"
      },
      "source": [
        "**Measures of Dispersion**\n",
        "\n",
        "The second type of descriptive statistics is the measure of Dispersion also known as measure of variability is used to describe the variability in a data set which can be a sample or population. It is usually used in conjunction with a measure of central tendency, to provide an overall description of a set of data. A measure of dispersion/variability/spread gives us an idea of how well the central tendency represents the data. If we are analyzing the data set closely, sometimes mean/average might not be the best representative of data because it will differ when data have a wide difference among them. In such a case measure of dispersion will represent the variability in data set much wisely.\n",
        "\n",
        "Multiple techniques gives the measures of dispersion in our data set. Some commonly used methods are standard deviation (or variance), the minimum and maximum values of the variables, range, kurtosis, and skewness.\n",
        "\n",
        "**Standard Deviation**:In simple language, the standard deviation is the average/mean of the difference between each value in data set with its average/mean. That is, how data is spread out from mean. If the standard deviation of the dataset is low, then the data points tend to be close to the mean of the data set, else the data points are spread out over a wider range of values.\n",
        "\n",
        "Diffrent python libraries has functions to get the standard deviation of data set.Numpy librari has function Numpy.std(dataset).Statistics  librari has function statistics.stdev(dataset).Using Pandas libraries we calculate standard deviation of our dataframe df with df.std() function.\n",
        "\n",
        "Here in our data frame of automobiles, let's get the standard deviation using df.std() function.\n",
        "\n",
        "Standard deviation is square root of variance. variance is the average of squared difference of values in a data set from the mean value."
      ]
    },
    {
      "cell_type": "code",
      "metadata": {
        "id": "bvVTTyil5tKB",
        "colab_type": "code",
        "outputId": "4b4a4286-7d5d-44f8-84e0-f5e059701fd5",
        "colab": {
          "base_uri": "https://localhost:8080/",
          "height": 374
        }
      },
      "source": [
        "#standard variance of data set using std() function\n",
        "std_dev =df.std()\n",
        "print(std_dev)\n",
        "# standard variance of the specific column\n",
        "sv_height=df.loc[:,\"height\"].std()\n",
        "print(sv_height)"
      ],
      "execution_count": 0,
      "outputs": [
        {
          "output_type": "stream",
          "text": [
            "symboling               1.254802\n",
            "normalized-losses      31.996250\n",
            "wheel-base              6.066366\n",
            "length                  0.059213\n",
            "width                   0.029187\n",
            "height                  2.447822\n",
            "curb-weight           517.296727\n",
            "engine-size            41.546834\n",
            "bore                    0.268072\n",
            "stroke                  0.319256\n",
            "compression-ratio       4.004965\n",
            "horsepower             37.365700\n",
            "peak-rpm              478.113805\n",
            "city-mpg                6.423220\n",
            "highway-mpg             6.815150\n",
            "price                7947.066342\n",
            "city-L/100km            2.534599\n",
            "diesel                  0.300083\n",
            "gas                     0.300083\n",
            "dtype: float64\n",
            "2.44782216129631\n"
          ],
          "name": "stdout"
        }
      ]
    },
    {
      "cell_type": "markdown",
      "metadata": {
        "id": "Rl557ESJfUf1",
        "colab_type": "text"
      },
      "source": [
        "**Variance**:Variance is a square of average/mean of the difference between each value in data set with its average/mean. That is it is square of standard deviation.\n",
        "\n",
        "Diffrent python libraries has functions to get the Variance of data set.Numpy librari has function Numpy.var(dataset).Statistics  librari has function statistics.variance(dataset).Using Pandas libraries we calculate variance of our dataframe df with df.var() function.\n",
        "\n",
        "Here in our data frame of automobiles, let's get the standard deviation using df.var() function."
      ]
    },
    {
      "cell_type": "code",
      "metadata": {
        "id": "wyCfxqeBK_Hl",
        "colab_type": "code",
        "outputId": "55bcca19-5bd1-4877-89b9-5bf8d58d8270",
        "colab": {
          "base_uri": "https://localhost:8080/",
          "height": 374
        }
      },
      "source": [
        "# variance of data set using var() function\n",
        "variance=df.var()\n",
        "print(variance)\n",
        "# variance of the specific column\n",
        "var_height=df.loc[:,\"height\"].var()\n",
        "print(var_height)"
      ],
      "execution_count": 0,
      "outputs": [
        {
          "output_type": "stream",
          "text": [
            "symboling            1.574527e+00\n",
            "normalized-losses    1.023760e+03\n",
            "wheel-base           3.680079e+01\n",
            "length               3.506151e-03\n",
            "width                8.518865e-04\n",
            "height               5.991833e+00\n",
            "curb-weight          2.675959e+05\n",
            "engine-size          1.726139e+03\n",
            "bore                 7.186252e-02\n",
            "stroke               1.019245e-01\n",
            "compression-ratio    1.603975e+01\n",
            "horsepower           1.396195e+03\n",
            "peak-rpm             2.285928e+05\n",
            "city-mpg             4.125776e+01\n",
            "highway-mpg          4.644627e+01\n",
            "price                6.315586e+07\n",
            "city-L/100km         6.424193e+00\n",
            "diesel               9.004975e-02\n",
            "gas                  9.004975e-02\n",
            "dtype: float64\n",
            "5.991833333333338\n"
          ],
          "name": "stdout"
        }
      ]
    },
    {
      "cell_type": "markdown",
      "metadata": {
        "id": "mx3NjXuAhE1X",
        "colab_type": "text"
      },
      "source": [
        "**Range**: Range is one of the simplest techniques of descriptive statistics. It is the difference between lowest and highest value.\n",
        "\n",
        "**Skewness**: In probability theory and statistics, skewness is a measure of the asymmetry of the variable in the data set about its mean. The skewness value can be positive or negative, or undefined. It used to determine whether the data is symmetric or skewed. If the index is between -1 and 1, then the distribution is symmetric.\n",
        " ![alt text](https://miro.medium.com/max/600/1*kIjrjUM73-K8agpGRdQ33w.jpeg)\n",
        "\n",
        "\n",
        "As you can see in the picture above When the tail on the curve’s left-hand side is longer than the tail on the right-hand side the distribution is skewed to the left, which means the mean is less than the mode. This situation is also called negative skewness.\n",
        "\n",
        "When the tail on the curve’s right-hand side is longer than the tail on the left-hand side the distribution is skewed to the right, which means the mean is greater than the mode. This situation is also called positive skewness.\n",
        "\n",
        "Different python libraries have functions to get the skewness of the data set. SciPy library has function scipy.stats.skew(dataset).Using Pandas libraries we calculate skewness of our data frame df with df.skew() function.\n",
        "\n",
        "Here in our data frame of automobiles, let's get the skewness using df.skew() function."
      ]
    },
    {
      "cell_type": "code",
      "metadata": {
        "id": "n6t8NJKCJEWL",
        "colab_type": "code",
        "outputId": "1d81719c-7dfc-41de-d898-ece79bb3cfe7",
        "colab": {
          "base_uri": "https://localhost:8080/",
          "height": 374
        }
      },
      "source": [
        "# Skewness of data in data using skew() function\n",
        "skewness =df.skew()\n",
        "print(skewness)\n",
        "# skewness of the specific column\n",
        "sk_height=df.loc[:,\"height\"].skew()\n",
        "print(sk_height)"
      ],
      "execution_count": 0,
      "outputs": [
        {
          "output_type": "stream",
          "text": [
            "symboling            0.197370\n",
            "normalized-losses    0.846546\n",
            "wheel-base           1.031261\n",
            "length               0.154446\n",
            "width                0.875029\n",
            "height               0.029173\n",
            "curb-weight          0.705804\n",
            "engine-size          1.979144\n",
            "bore                -0.032730\n",
            "stroke              -0.693778\n",
            "compression-ratio    2.584462\n",
            "horsepower           1.146517\n",
            "peak-rpm             0.107770\n",
            "city-mpg             0.680433\n",
            "highway-mpg          0.549507\n",
            "price                1.809675\n",
            "city-L/100km         0.592383\n",
            "diesel               2.696072\n",
            "gas                 -2.696072\n",
            "dtype: float64\n",
            "0.029173299149270183\n"
          ],
          "name": "stdout"
        }
      ]
    },
    {
      "cell_type": "markdown",
      "metadata": {
        "id": "VG737ZQ6oxH3",
        "colab_type": "text"
      },
      "source": [
        "**Kurtosis**: Kurtosis is a measure of whether the data are heavy-tailed or light-tailed relative to a normal distribution. That is, data sets with high kurtosis tend to have heavy tails, or outliers. Data sets with low kurtosis tend to have light tails, or lack of outliers. A uniform distribution would be the extreme case.\n",
        " Reference:https://www.itl.nist.gov/div898/handbook/eda/section3/eda35b.htm\n",
        "\n",
        "Kurtosis is about existence of outliers. Kurtosis is a measure of whether the data are heavy-tailed (lot of outliers) or light-tailed (lack of outliers) relative to a normal distribution.\n",
        " ![alt text](https://miro.medium.com/max/375/1*_N2t_tWB7y3_N0ilzgTQng.jpeg)\n",
        "\n",
        "The main difference between skewness and kurtosis is that the skewness refers to the degree of symmetry, whereas the kurtosis refers to the degree of presence of outliers in the distribution.\n",
        "\n",
        "Different python libraries have functions to get the kurtosis of the data set. SciPy library has function scipy.stats.kurtosis(dataset).Using Pandas libraries we calculate kurtosis of our data frame df with df.kurt() function.\n",
        "\n",
        "Here in our data frame of automobiles, let's get the kurtosis using df.kurt() function.\n",
        "\n"
      ]
    },
    {
      "cell_type": "code",
      "metadata": {
        "id": "m2GuUXzUsNFX",
        "colab_type": "code",
        "colab": {}
      },
      "source": [
        "# Kurtosis of data in data using skew() function\n",
        "kurtosis =df.kurt()\n",
        "print(kurtosis)\n",
        "# Kurtosis of the specific column\n",
        "sk_height=df.loc[:,\"height\"].kurt()\n",
        "print(sk_height)"
      ],
      "execution_count": 0,
      "outputs": []
    },
    {
      "cell_type": "markdown",
      "metadata": {
        "id": "D55-4wBSPMjn",
        "colab_type": "text"
      },
      "source": [
        "**Visualizing Statistical Measures**\n",
        "\n",
        "Chapter 2 gives us the idea about data visualization.Visualizing Statistical Measures is same thing.Since Scatter Plots represents each observation as a point which shows the relationship between two variables.\n",
        "\n",
        "Let's visualize the relationship between engine-size and price features of our automobile data set. Firstly importing data visualizing libraries is must."
      ]
    },
    {
      "cell_type": "code",
      "metadata": {
        "id": "Tg0BVF-lBbg1",
        "colab_type": "code",
        "colab": {}
      },
      "source": [
        "import matplotlib.pyplot as plt\n",
        "import seaborn as sns"
      ],
      "execution_count": 0,
      "outputs": []
    },
    {
      "cell_type": "code",
      "metadata": {
        "id": "0h60Cunf-xe9",
        "colab_type": "code",
        "outputId": "39ce9b9d-3389-4a8a-c18b-75360e406d9d",
        "colab": {
          "base_uri": "https://localhost:8080/",
          "height": 312
        }
      },
      "source": [
        "# plot the relationship between “engine-size” and ”price”\n",
        "plt.scatter(df[\"price\"], df[\"engine-size\"])\n",
        "plt.title(\"Scatter Plot for “engine-size” vs ”price” \")\n",
        "plt.xlabel(\"engine-size\")\n",
        "plt.ylabel(\"”price”\")"
      ],
      "execution_count": 0,
      "outputs": [
        {
          "output_type": "execute_result",
          "data": {
            "text/plain": [
              "Text(0, 0.5, '”price”')"
            ]
          },
          "metadata": {
            "tags": []
          },
          "execution_count": 13
        },
        {
          "output_type": "display_data",
          "data": {
            "image/png": "[encoded data removed]",
            "text/plain": [
              "<Figure size 432x288 with 1 Axes>"
            ]
          },
          "metadata": {
            "tags": []
          }
        }
      ]
    },
    {
      "cell_type": "markdown",
      "metadata": {
        "id": "QesgI3bLBKOm",
        "colab_type": "text"
      },
      "source": [
        "From the scatterplot we see that as the engine size goes up, the price of the car also goes up.This is giving us an initial indication that there is a positive linear relationship between"
      ]
    },
    {
      "cell_type": "markdown",
      "metadata": {
        "id": "WoglPRcW95gY",
        "colab_type": "text"
      },
      "source": [
        "Boxplots are a great way to visualize numeric data, since you can visualize the various distributions of the data."
      ]
    },
    {
      "cell_type": "code",
      "metadata": {
        "id": "ccUEYiG131w0",
        "colab_type": "code",
        "outputId": "bd4bc29b-cedf-4dd1-b463-c6090c23aa2f",
        "colab": {
          "base_uri": "https://localhost:8080/",
          "height": 296
        }
      },
      "source": [
        "#boxplot to visualize the distribution of \"price\" with types of \"drive-wheels\"\n",
        "sns.boxplot(x=\"drive-wheels\",y=\"price\",data=df)\n"
      ],
      "execution_count": 0,
      "outputs": [
        {
          "output_type": "execute_result",
          "data": {
            "text/plain": [
              "<matplotlib.axes._subplots.AxesSubplot at 0x7fb1afd12898>"
            ]
          },
          "metadata": {
            "tags": []
          },
          "execution_count": 14
        },
        {
          "output_type": "display_data",
          "data": {
            "image/png": "[encoded data removed]",
            "text/plain": [
              "<Figure size 432x288 with 1 Axes>"
            ]
          },
          "metadata": {
            "tags": []
          }
        }
      ]
    },
    {
      "cell_type": "markdown",
      "metadata": {
        "id": "jl_bpXnf8euz",
        "colab_type": "text"
      },
      "source": [
        "We can see that the distribution of price\n",
        "between the rwd (rear wheel drive) and the other categories are distinct, but the price\n",
        "for fwd (front wheel drive) and 4wd (four wheel drive) are almost indistinguishable.So drive-wheels could potentially affects the price of cars."
      ]
    },
    {
      "cell_type": "markdown",
      "metadata": {
        "id": "bJL7ayVvEUZB",
        "colab_type": "text"
      },
      "source": [
        "**Calculating Percentiles**\n",
        "\n",
        "Percentiles gives the relative position of a particular value within the dataset. It indicates the value below which a given percentage of points in a dataset fall."
      ]
    },
    {
      "cell_type": "code",
      "metadata": {
        "id": "h1_yVU9kEXoR",
        "colab_type": "code",
        "outputId": "c9defafd-8847-4123-e03e-79fb098769d9",
        "colab": {
          "base_uri": "https://localhost:8080/",
          "height": 34
        }
      },
      "source": [
        "# calculating 30th percentile of heights in dataset\n",
        "height = df[\"height\"]\n",
        "percentile = np.percentile(height, 50,)\n",
        "print(percentile)"
      ],
      "execution_count": 0,
      "outputs": [
        {
          "output_type": "stream",
          "text": [
            "54.1\n"
          ],
          "name": "stdout"
        }
      ]
    },
    {
      "cell_type": "markdown",
      "metadata": {
        "id": "ENzTKt-CJMGS",
        "colab_type": "text"
      },
      "source": [
        "**Quartiles** \n",
        "\n",
        "In statistics and probability, quartiles are values that divide your data into quarters provided data is sorted in an ascending order. Bacically quartiles are the three points that split the data set into four equal parts such that each group consists of one-fourth of the data. In terms of percentiles , 25th percentile is called first quartile(Q1), 50th percentile the second quartile(Q2), and 75th percentile the third quartile(Q3).\n",
        "\n",
        "![alt text](https://encrypted-tbn0.gstatic.com/images?q=tbn:ANd9GcQ9rv8meqCSQC6JFqpyX4YDu7LRH15UjSOWBaA_Ccy1niiEKmLayg&s)\n",
        "\n",
        "Lets plot the summary of column \"normalized-losses\" with box plot which easily demonstrates the quartiles of the data."
      ]
    },
    {
      "cell_type": "code",
      "metadata": {
        "id": "N6ERrNg_6aD6",
        "colab_type": "code",
        "outputId": "a3f50292-37e9-4321-8ddb-b1840c532565",
        "colab": {
          "base_uri": "https://localhost:8080/",
          "height": 170
        }
      },
      "source": [
        "df[\"normalized-losses\"].describe()"
      ],
      "execution_count": 0,
      "outputs": [
        {
          "output_type": "execute_result",
          "data": {
            "text/plain": [
              "count    201.00000\n",
              "mean     122.00000\n",
              "std       31.99625\n",
              "min       65.00000\n",
              "25%      101.00000\n",
              "50%      122.00000\n",
              "75%      137.00000\n",
              "max      256.00000\n",
              "Name: normalized-losses, dtype: float64"
            ]
          },
          "metadata": {
            "tags": []
          },
          "execution_count": 30
        }
      ]
    },
    {
      "cell_type": "code",
      "metadata": {
        "id": "JIWsHrdtIGgx",
        "colab_type": "code",
        "outputId": "0a4e1895-5d15-414a-914d-630733fb0130",
        "colab": {
          "base_uri": "https://localhost:8080/",
          "height": 269
        }
      },
      "source": [
        "sns.boxplot(y=\"normalized-losses\",data=df)\n"
      ],
      "execution_count": 0,
      "outputs": [
        {
          "output_type": "execute_result",
          "data": {
            "text/plain": [
              "<matplotlib.axes._subplots.AxesSubplot at 0x7fb1af7829e8>"
            ]
          },
          "metadata": {
            "tags": []
          },
          "execution_count": 24
        },
        {
          "output_type": "display_data",
          "data": {
            "image/png": "[encoded data removed]",
            "text/plain": [
              "<Figure size 432x288 with 1 Axes>"
            ]
          },
          "metadata": {
            "tags": []
          }
        }
      ]
    },
    {
      "cell_type": "markdown",
      "metadata": {
        "id": "Gv_8xyOP6fVA",
        "colab_type": "text"
      },
      "source": [
        "The main features that the boxplot shows are the median of the data, which represents where the middle datapoint is.In this figure the line inside the box represents median which is 50th percentile or second quartile(Q2). The upper border of the box represents 75th percentile the third quartile(Q3),\n",
        "and the lower border of the box represents 25th percentile the first quartile(Q1). The data between the Upper and Lower Quartile represents the Interquartile Range.\n",
        "Next, we have the Lower and Upper Extremes. These are calculated as 1.5 times the interquartile range above the 75th percentile, and as 1.5 times the IQR below the 25th percentile.\n",
        "\n",
        "Finally, boxplots also display outliers as individual dots that occur outside the upper and lower extremes. With boxplots, you can easily spot outliers."
      ]
    },
    {
      "cell_type": "markdown",
      "metadata": {
        "id": "lBdlJF4V96Jz",
        "colab_type": "text"
      },
      "source": [
        "let's see the quartile ranges in price of cars respect to diffrent horsepower-binned."
      ]
    },
    {
      "cell_type": "code",
      "metadata": {
        "id": "AC73w2EC-GaO",
        "colab_type": "code",
        "outputId": "6b686d59-2ac9-4a7e-9bc2-1f5ae4e185f1",
        "colab": {
          "base_uri": "https://localhost:8080/",
          "height": 296
        }
      },
      "source": [
        "sns.boxplot(x=\"horsepower-binned\",y=\"price\",data=df)"
      ],
      "execution_count": 0,
      "outputs": [
        {
          "output_type": "execute_result",
          "data": {
            "text/plain": [
              "<matplotlib.axes._subplots.AxesSubplot at 0x7fb1af6df9e8>"
            ]
          },
          "metadata": {
            "tags": []
          },
          "execution_count": 31
        },
        {
          "output_type": "display_data",
          "data": {
            "image/png": "[encoded data removed]",
            "text/plain": [
              "<Figure size 432x288 with 1 Axes>"
            ]
          },
          "metadata": {
            "tags": []
          }
        }
      ]
    },
    {
      "cell_type": "markdown",
      "metadata": {
        "id": "5XP5z2AR-XkS",
        "colab_type": "text"
      },
      "source": [
        "This plot demonstrates the diffrent quartile ranges of cars with diffrent horsepower-binned."
      ]
    },
    {
      "cell_type": "code",
      "metadata": {
        "id": "1gBkQCof_gMa",
        "colab_type": "code",
        "colab": {}
      },
      "source": [
        ""
      ],
      "execution_count": 0,
      "outputs": []
    }
  ]
}